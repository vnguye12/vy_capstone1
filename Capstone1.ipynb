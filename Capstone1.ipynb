{
 "cells": [
  {
   "cell_type": "markdown",
   "metadata": {},
   "source": [
    "# Capstone1 Proposal"
   ]
  },
  {
   "cell_type": "code",
   "execution_count": 2,
   "metadata": {},
   "outputs": [],
   "source": [
    "import pandas as pd\n",
    "import numpy as np\n",
    "import matplotlib.pyplot as plt\n",
    "import seaborn as sns"
   ]
  },
  {
   "cell_type": "code",
   "execution_count": 3,
   "metadata": {},
   "outputs": [],
   "source": [
    "start_df=pd.read_csv('/Users/vnguyenair/Desktop/loan.csv',low_memory=False)"
   ]
  },
  {
   "cell_type": "code",
   "execution_count": 4,
   "metadata": {},
   "outputs": [
    {
     "name": "stdout",
     "output_type": "stream",
     "text": [
      "<class 'pandas.core.frame.DataFrame'>\n",
      "RangeIndex: 2260668 entries, 0 to 2260667\n",
      "Columns: 145 entries, id to settlement_term\n",
      "dtypes: float64(105), int64(4), object(36)\n",
      "memory usage: 2.4+ GB\n"
     ]
    }
   ],
   "source": [
    "start_df.info()"
   ]
  },
  {
   "cell_type": "code",
   "execution_count": 5,
   "metadata": {},
   "outputs": [
    {
     "data": {
      "text/html": [
       "<div>\n",
       "<style scoped>\n",
       "    .dataframe tbody tr th:only-of-type {\n",
       "        vertical-align: middle;\n",
       "    }\n",
       "\n",
       "    .dataframe tbody tr th {\n",
       "        vertical-align: top;\n",
       "    }\n",
       "\n",
       "    .dataframe thead th {\n",
       "        text-align: right;\n",
       "    }\n",
       "</style>\n",
       "<table border=\"1\" class=\"dataframe\">\n",
       "  <thead>\n",
       "    <tr style=\"text-align: right;\">\n",
       "      <th></th>\n",
       "      <th>id</th>\n",
       "      <th>member_id</th>\n",
       "      <th>loan_amnt</th>\n",
       "      <th>funded_amnt</th>\n",
       "      <th>funded_amnt_inv</th>\n",
       "      <th>term</th>\n",
       "      <th>int_rate</th>\n",
       "      <th>installment</th>\n",
       "      <th>grade</th>\n",
       "      <th>sub_grade</th>\n",
       "      <th>...</th>\n",
       "      <th>hardship_payoff_balance_amount</th>\n",
       "      <th>hardship_last_payment_amount</th>\n",
       "      <th>disbursement_method</th>\n",
       "      <th>debt_settlement_flag</th>\n",
       "      <th>debt_settlement_flag_date</th>\n",
       "      <th>settlement_status</th>\n",
       "      <th>settlement_date</th>\n",
       "      <th>settlement_amount</th>\n",
       "      <th>settlement_percentage</th>\n",
       "      <th>settlement_term</th>\n",
       "    </tr>\n",
       "  </thead>\n",
       "  <tbody>\n",
       "    <tr>\n",
       "      <td>0</td>\n",
       "      <td>NaN</td>\n",
       "      <td>NaN</td>\n",
       "      <td>2500</td>\n",
       "      <td>2500</td>\n",
       "      <td>2500.0</td>\n",
       "      <td>36 months</td>\n",
       "      <td>13.56</td>\n",
       "      <td>84.92</td>\n",
       "      <td>C</td>\n",
       "      <td>C1</td>\n",
       "      <td>...</td>\n",
       "      <td>NaN</td>\n",
       "      <td>NaN</td>\n",
       "      <td>Cash</td>\n",
       "      <td>N</td>\n",
       "      <td>NaN</td>\n",
       "      <td>NaN</td>\n",
       "      <td>NaN</td>\n",
       "      <td>NaN</td>\n",
       "      <td>NaN</td>\n",
       "      <td>NaN</td>\n",
       "    </tr>\n",
       "    <tr>\n",
       "      <td>1</td>\n",
       "      <td>NaN</td>\n",
       "      <td>NaN</td>\n",
       "      <td>30000</td>\n",
       "      <td>30000</td>\n",
       "      <td>30000.0</td>\n",
       "      <td>60 months</td>\n",
       "      <td>18.94</td>\n",
       "      <td>777.23</td>\n",
       "      <td>D</td>\n",
       "      <td>D2</td>\n",
       "      <td>...</td>\n",
       "      <td>NaN</td>\n",
       "      <td>NaN</td>\n",
       "      <td>Cash</td>\n",
       "      <td>N</td>\n",
       "      <td>NaN</td>\n",
       "      <td>NaN</td>\n",
       "      <td>NaN</td>\n",
       "      <td>NaN</td>\n",
       "      <td>NaN</td>\n",
       "      <td>NaN</td>\n",
       "    </tr>\n",
       "    <tr>\n",
       "      <td>2</td>\n",
       "      <td>NaN</td>\n",
       "      <td>NaN</td>\n",
       "      <td>5000</td>\n",
       "      <td>5000</td>\n",
       "      <td>5000.0</td>\n",
       "      <td>36 months</td>\n",
       "      <td>17.97</td>\n",
       "      <td>180.69</td>\n",
       "      <td>D</td>\n",
       "      <td>D1</td>\n",
       "      <td>...</td>\n",
       "      <td>NaN</td>\n",
       "      <td>NaN</td>\n",
       "      <td>Cash</td>\n",
       "      <td>N</td>\n",
       "      <td>NaN</td>\n",
       "      <td>NaN</td>\n",
       "      <td>NaN</td>\n",
       "      <td>NaN</td>\n",
       "      <td>NaN</td>\n",
       "      <td>NaN</td>\n",
       "    </tr>\n",
       "    <tr>\n",
       "      <td>3</td>\n",
       "      <td>NaN</td>\n",
       "      <td>NaN</td>\n",
       "      <td>4000</td>\n",
       "      <td>4000</td>\n",
       "      <td>4000.0</td>\n",
       "      <td>36 months</td>\n",
       "      <td>18.94</td>\n",
       "      <td>146.51</td>\n",
       "      <td>D</td>\n",
       "      <td>D2</td>\n",
       "      <td>...</td>\n",
       "      <td>NaN</td>\n",
       "      <td>NaN</td>\n",
       "      <td>Cash</td>\n",
       "      <td>N</td>\n",
       "      <td>NaN</td>\n",
       "      <td>NaN</td>\n",
       "      <td>NaN</td>\n",
       "      <td>NaN</td>\n",
       "      <td>NaN</td>\n",
       "      <td>NaN</td>\n",
       "    </tr>\n",
       "    <tr>\n",
       "      <td>4</td>\n",
       "      <td>NaN</td>\n",
       "      <td>NaN</td>\n",
       "      <td>30000</td>\n",
       "      <td>30000</td>\n",
       "      <td>30000.0</td>\n",
       "      <td>60 months</td>\n",
       "      <td>16.14</td>\n",
       "      <td>731.78</td>\n",
       "      <td>C</td>\n",
       "      <td>C4</td>\n",
       "      <td>...</td>\n",
       "      <td>NaN</td>\n",
       "      <td>NaN</td>\n",
       "      <td>Cash</td>\n",
       "      <td>N</td>\n",
       "      <td>NaN</td>\n",
       "      <td>NaN</td>\n",
       "      <td>NaN</td>\n",
       "      <td>NaN</td>\n",
       "      <td>NaN</td>\n",
       "      <td>NaN</td>\n",
       "    </tr>\n",
       "  </tbody>\n",
       "</table>\n",
       "<p>5 rows × 145 columns</p>\n",
       "</div>"
      ],
      "text/plain": [
       "   id  member_id  loan_amnt  funded_amnt  funded_amnt_inv        term  \\\n",
       "0 NaN        NaN       2500         2500           2500.0   36 months   \n",
       "1 NaN        NaN      30000        30000          30000.0   60 months   \n",
       "2 NaN        NaN       5000         5000           5000.0   36 months   \n",
       "3 NaN        NaN       4000         4000           4000.0   36 months   \n",
       "4 NaN        NaN      30000        30000          30000.0   60 months   \n",
       "\n",
       "   int_rate  installment grade sub_grade  ... hardship_payoff_balance_amount  \\\n",
       "0     13.56        84.92     C        C1  ...                            NaN   \n",
       "1     18.94       777.23     D        D2  ...                            NaN   \n",
       "2     17.97       180.69     D        D1  ...                            NaN   \n",
       "3     18.94       146.51     D        D2  ...                            NaN   \n",
       "4     16.14       731.78     C        C4  ...                            NaN   \n",
       "\n",
       "  hardship_last_payment_amount disbursement_method  debt_settlement_flag  \\\n",
       "0                          NaN                Cash                     N   \n",
       "1                          NaN                Cash                     N   \n",
       "2                          NaN                Cash                     N   \n",
       "3                          NaN                Cash                     N   \n",
       "4                          NaN                Cash                     N   \n",
       "\n",
       "  debt_settlement_flag_date settlement_status settlement_date  \\\n",
       "0                       NaN               NaN             NaN   \n",
       "1                       NaN               NaN             NaN   \n",
       "2                       NaN               NaN             NaN   \n",
       "3                       NaN               NaN             NaN   \n",
       "4                       NaN               NaN             NaN   \n",
       "\n",
       "  settlement_amount  settlement_percentage settlement_term  \n",
       "0               NaN                    NaN             NaN  \n",
       "1               NaN                    NaN             NaN  \n",
       "2               NaN                    NaN             NaN  \n",
       "3               NaN                    NaN             NaN  \n",
       "4               NaN                    NaN             NaN  \n",
       "\n",
       "[5 rows x 145 columns]"
      ]
     },
     "execution_count": 5,
     "metadata": {},
     "output_type": "execute_result"
    }
   ],
   "source": [
    "start_df.head()"
   ]
  },
  {
   "cell_type": "code",
   "execution_count": 9,
   "metadata": {},
   "outputs": [],
   "source": [
    "Done_df=start_df[start_df.loan_status!='Current']"
   ]
  },
  {
   "cell_type": "code",
   "execution_count": 10,
   "metadata": {},
   "outputs": [
    {
     "data": {
      "text/html": [
       "<div>\n",
       "<style scoped>\n",
       "    .dataframe tbody tr th:only-of-type {\n",
       "        vertical-align: middle;\n",
       "    }\n",
       "\n",
       "    .dataframe tbody tr th {\n",
       "        vertical-align: top;\n",
       "    }\n",
       "\n",
       "    .dataframe thead th {\n",
       "        text-align: right;\n",
       "    }\n",
       "</style>\n",
       "<table border=\"1\" class=\"dataframe\">\n",
       "  <thead>\n",
       "    <tr style=\"text-align: right;\">\n",
       "      <th></th>\n",
       "      <th>id</th>\n",
       "      <th>member_id</th>\n",
       "      <th>loan_amnt</th>\n",
       "      <th>funded_amnt</th>\n",
       "      <th>funded_amnt_inv</th>\n",
       "      <th>term</th>\n",
       "      <th>int_rate</th>\n",
       "      <th>installment</th>\n",
       "      <th>grade</th>\n",
       "      <th>sub_grade</th>\n",
       "      <th>...</th>\n",
       "      <th>hardship_payoff_balance_amount</th>\n",
       "      <th>hardship_last_payment_amount</th>\n",
       "      <th>disbursement_method</th>\n",
       "      <th>debt_settlement_flag</th>\n",
       "      <th>debt_settlement_flag_date</th>\n",
       "      <th>settlement_status</th>\n",
       "      <th>settlement_date</th>\n",
       "      <th>settlement_amount</th>\n",
       "      <th>settlement_percentage</th>\n",
       "      <th>settlement_term</th>\n",
       "    </tr>\n",
       "  </thead>\n",
       "  <tbody>\n",
       "    <tr>\n",
       "      <td>100</td>\n",
       "      <td>NaN</td>\n",
       "      <td>NaN</td>\n",
       "      <td>30000</td>\n",
       "      <td>30000</td>\n",
       "      <td>30000.0</td>\n",
       "      <td>36 months</td>\n",
       "      <td>22.35</td>\n",
       "      <td>1151.16</td>\n",
       "      <td>D</td>\n",
       "      <td>D5</td>\n",
       "      <td>...</td>\n",
       "      <td>NaN</td>\n",
       "      <td>NaN</td>\n",
       "      <td>Cash</td>\n",
       "      <td>N</td>\n",
       "      <td>NaN</td>\n",
       "      <td>NaN</td>\n",
       "      <td>NaN</td>\n",
       "      <td>NaN</td>\n",
       "      <td>NaN</td>\n",
       "      <td>NaN</td>\n",
       "    </tr>\n",
       "    <tr>\n",
       "      <td>152</td>\n",
       "      <td>NaN</td>\n",
       "      <td>NaN</td>\n",
       "      <td>40000</td>\n",
       "      <td>40000</td>\n",
       "      <td>40000.0</td>\n",
       "      <td>60 months</td>\n",
       "      <td>16.14</td>\n",
       "      <td>975.71</td>\n",
       "      <td>C</td>\n",
       "      <td>C4</td>\n",
       "      <td>...</td>\n",
       "      <td>NaN</td>\n",
       "      <td>NaN</td>\n",
       "      <td>Cash</td>\n",
       "      <td>N</td>\n",
       "      <td>NaN</td>\n",
       "      <td>NaN</td>\n",
       "      <td>NaN</td>\n",
       "      <td>NaN</td>\n",
       "      <td>NaN</td>\n",
       "      <td>NaN</td>\n",
       "    </tr>\n",
       "    <tr>\n",
       "      <td>170</td>\n",
       "      <td>NaN</td>\n",
       "      <td>NaN</td>\n",
       "      <td>20000</td>\n",
       "      <td>20000</td>\n",
       "      <td>20000.0</td>\n",
       "      <td>36 months</td>\n",
       "      <td>7.56</td>\n",
       "      <td>622.68</td>\n",
       "      <td>A</td>\n",
       "      <td>A3</td>\n",
       "      <td>...</td>\n",
       "      <td>NaN</td>\n",
       "      <td>NaN</td>\n",
       "      <td>Cash</td>\n",
       "      <td>N</td>\n",
       "      <td>NaN</td>\n",
       "      <td>NaN</td>\n",
       "      <td>NaN</td>\n",
       "      <td>NaN</td>\n",
       "      <td>NaN</td>\n",
       "      <td>NaN</td>\n",
       "    </tr>\n",
       "    <tr>\n",
       "      <td>186</td>\n",
       "      <td>NaN</td>\n",
       "      <td>NaN</td>\n",
       "      <td>4500</td>\n",
       "      <td>4500</td>\n",
       "      <td>4500.0</td>\n",
       "      <td>36 months</td>\n",
       "      <td>11.31</td>\n",
       "      <td>147.99</td>\n",
       "      <td>B</td>\n",
       "      <td>B3</td>\n",
       "      <td>...</td>\n",
       "      <td>NaN</td>\n",
       "      <td>NaN</td>\n",
       "      <td>Cash</td>\n",
       "      <td>N</td>\n",
       "      <td>NaN</td>\n",
       "      <td>NaN</td>\n",
       "      <td>NaN</td>\n",
       "      <td>NaN</td>\n",
       "      <td>NaN</td>\n",
       "      <td>NaN</td>\n",
       "    </tr>\n",
       "    <tr>\n",
       "      <td>215</td>\n",
       "      <td>NaN</td>\n",
       "      <td>NaN</td>\n",
       "      <td>8425</td>\n",
       "      <td>8425</td>\n",
       "      <td>8425.0</td>\n",
       "      <td>36 months</td>\n",
       "      <td>27.27</td>\n",
       "      <td>345.18</td>\n",
       "      <td>E</td>\n",
       "      <td>E5</td>\n",
       "      <td>...</td>\n",
       "      <td>NaN</td>\n",
       "      <td>NaN</td>\n",
       "      <td>Cash</td>\n",
       "      <td>N</td>\n",
       "      <td>NaN</td>\n",
       "      <td>NaN</td>\n",
       "      <td>NaN</td>\n",
       "      <td>NaN</td>\n",
       "      <td>NaN</td>\n",
       "      <td>NaN</td>\n",
       "    </tr>\n",
       "  </tbody>\n",
       "</table>\n",
       "<p>5 rows × 145 columns</p>\n",
       "</div>"
      ],
      "text/plain": [
       "     id  member_id  loan_amnt  funded_amnt  funded_amnt_inv        term  \\\n",
       "100 NaN        NaN      30000        30000          30000.0   36 months   \n",
       "152 NaN        NaN      40000        40000          40000.0   60 months   \n",
       "170 NaN        NaN      20000        20000          20000.0   36 months   \n",
       "186 NaN        NaN       4500         4500           4500.0   36 months   \n",
       "215 NaN        NaN       8425         8425           8425.0   36 months   \n",
       "\n",
       "     int_rate  installment grade sub_grade  ...  \\\n",
       "100     22.35      1151.16     D        D5  ...   \n",
       "152     16.14       975.71     C        C4  ...   \n",
       "170      7.56       622.68     A        A3  ...   \n",
       "186     11.31       147.99     B        B3  ...   \n",
       "215     27.27       345.18     E        E5  ...   \n",
       "\n",
       "    hardship_payoff_balance_amount hardship_last_payment_amount  \\\n",
       "100                            NaN                          NaN   \n",
       "152                            NaN                          NaN   \n",
       "170                            NaN                          NaN   \n",
       "186                            NaN                          NaN   \n",
       "215                            NaN                          NaN   \n",
       "\n",
       "    disbursement_method  debt_settlement_flag debt_settlement_flag_date  \\\n",
       "100                Cash                     N                       NaN   \n",
       "152                Cash                     N                       NaN   \n",
       "170                Cash                     N                       NaN   \n",
       "186                Cash                     N                       NaN   \n",
       "215                Cash                     N                       NaN   \n",
       "\n",
       "    settlement_status settlement_date settlement_amount  \\\n",
       "100               NaN             NaN               NaN   \n",
       "152               NaN             NaN               NaN   \n",
       "170               NaN             NaN               NaN   \n",
       "186               NaN             NaN               NaN   \n",
       "215               NaN             NaN               NaN   \n",
       "\n",
       "     settlement_percentage settlement_term  \n",
       "100                    NaN             NaN  \n",
       "152                    NaN             NaN  \n",
       "170                    NaN             NaN  \n",
       "186                    NaN             NaN  \n",
       "215                    NaN             NaN  \n",
       "\n",
       "[5 rows x 145 columns]"
      ]
     },
     "execution_count": 10,
     "metadata": {},
     "output_type": "execute_result"
    }
   ],
   "source": [
    "Done_df.head()"
   ]
  },
  {
   "cell_type": "code",
   "execution_count": 16,
   "metadata": {},
   "outputs": [
    {
     "name": "stdout",
     "output_type": "stream",
     "text": [
      "<class 'pandas.core.frame.DataFrame'>\n",
      "Int64Index: 1340973 entries, 100 to 2260664\n",
      "Columns: 145 entries, id to settlement_term\n",
      "dtypes: float64(105), int64(4), object(36)\n",
      "memory usage: 1.5+ GB\n"
     ]
    }
   ],
   "source": [
    "Done_df.info()"
   ]
  },
  {
   "cell_type": "code",
   "execution_count": 20,
   "metadata": {},
   "outputs": [
    {
     "data": {
      "text/plain": [
       "Fully Paid                                             1041952\n",
       "Charged Off                                             261655\n",
       "Late (31-120 days)                                       21897\n",
       "In Grace Period                                           8952\n",
       "Late (16-30 days)                                         3737\n",
       "Does not meet the credit policy. Status:Fully Paid        1988\n",
       "Does not meet the credit policy. Status:Charged Off        761\n",
       "Default                                                     31\n",
       "Name: loan_status, dtype: int64"
      ]
     },
     "execution_count": 20,
     "metadata": {},
     "output_type": "execute_result"
    }
   ],
   "source": [
    "Done_df.loan_status.value_counts()"
   ]
  },
  {
   "cell_type": "code",
   "execution_count": 21,
   "metadata": {},
   "outputs": [
    {
     "data": {
      "text/plain": [
       "Index(['id', 'member_id', 'loan_amnt', 'funded_amnt', 'funded_amnt_inv',\n",
       "       'term', 'int_rate', 'installment', 'grade', 'sub_grade',\n",
       "       ...\n",
       "       'hardship_payoff_balance_amount', 'hardship_last_payment_amount',\n",
       "       'disbursement_method', 'debt_settlement_flag',\n",
       "       'debt_settlement_flag_date', 'settlement_status', 'settlement_date',\n",
       "       'settlement_amount', 'settlement_percentage', 'settlement_term'],\n",
       "      dtype='object', length=145)"
      ]
     },
     "execution_count": 21,
     "metadata": {},
     "output_type": "execute_result"
    }
   ],
   "source": [
    "Done_df.columns"
   ]
  },
  {
   "cell_type": "code",
   "execution_count": 41,
   "metadata": {},
   "outputs": [],
   "source": [
    "interested_cols=['addr_state','annual_inc','annual_inc_joint','application_type','delinq_2yrs','dti','dti_joint','emp_length',\n",
    "                'loan_amnt','home_ownership','int_rate','open_acc','tot_cur_bal','acc_now_delinq',\n",
    "                'grade','sub_grade','loan_status']"
   ]
  },
  {
   "cell_type": "code",
   "execution_count": 42,
   "metadata": {},
   "outputs": [],
   "source": [
    "fil_df=Done_df.loc[:,interested_cols]"
   ]
  },
  {
   "cell_type": "code",
   "execution_count": 43,
   "metadata": {},
   "outputs": [
    {
     "name": "stdout",
     "output_type": "stream",
     "text": [
      "<class 'pandas.core.frame.DataFrame'>\n",
      "Int64Index: 1340973 entries, 100 to 2260664\n",
      "Data columns (total 17 columns):\n",
      "addr_state          1340973 non-null object\n",
      "annual_inc          1340969 non-null float64\n",
      "annual_inc_joint    26929 non-null float64\n",
      "application_type    1340973 non-null object\n",
      "delinq_2yrs         1340944 non-null float64\n",
      "dti                 1340619 non-null float64\n",
      "dti_joint           26927 non-null float64\n",
      "emp_length          1262545 non-null object\n",
      "loan_amnt           1340973 non-null int64\n",
      "home_ownership      1340973 non-null object\n",
      "int_rate            1340973 non-null float64\n",
      "open_acc            1340944 non-null float64\n",
      "tot_cur_bal         1270697 non-null float64\n",
      "acc_now_delinq      1340944 non-null float64\n",
      "grade               1340973 non-null object\n",
      "sub_grade           1340973 non-null object\n",
      "loan_status         1340973 non-null object\n",
      "dtypes: float64(9), int64(1), object(7)\n",
      "memory usage: 184.2+ MB\n"
     ]
    }
   ],
   "source": [
    "fil_df.info()"
   ]
  },
  {
   "cell_type": "code",
   "execution_count": 44,
   "metadata": {},
   "outputs": [],
   "source": [
    "fil_df.to_csv('Data.csv')"
   ]
  },
  {
   "cell_type": "code",
   "execution_count": 46,
   "metadata": {},
   "outputs": [
    {
     "data": {
      "text/plain": [
       "1    1041952\n",
       "0     299021\n",
       "Name: decision, dtype: int64"
      ]
     },
     "execution_count": 46,
     "metadata": {},
     "output_type": "execute_result"
    }
   ],
   "source": [
    "loan_list=[1 if i=='Fully Paid' else 0 for i in fil_df['loan_status']]\n",
    "fil_df['decision'] = loan_list\n",
    "fil_df['decision'].value_counts()\n"
   ]
  },
  {
   "cell_type": "code",
   "execution_count": 47,
   "metadata": {},
   "outputs": [
    {
     "data": {
      "text/plain": [
       "Text(0, 0.5, 'Data type')"
      ]
     },
     "execution_count": 47,
     "metadata": {},
     "output_type": "execute_result"
    },
    {
     "data": {
      "image/png": "[encoded data removed]",
      "text/plain": [
       "<Figure size 432x288 with 1 Axes>"
      ]
     },
     "metadata": {
      "needs_background": "light"
     },
     "output_type": "display_data"
    }
   ],
   "source": [
    "fil_df.dtypes.value_counts().sort_values().plot(kind='barh')\n",
    "plt.title('Number of columns distributed by Data Types',fontsize=20)\n",
    "plt.xlabel('Number of columns',fontsize=15)\n",
    "plt.ylabel('Data type',fontsize=15)"
   ]
  },
  {
   "cell_type": "code",
   "execution_count": 48,
   "metadata": {},
   "outputs": [
    {
     "data": {
      "text/html": [
       "<div>\n",
       "<style scoped>\n",
       "    .dataframe tbody tr th:only-of-type {\n",
       "        vertical-align: middle;\n",
       "    }\n",
       "\n",
       "    .dataframe tbody tr th {\n",
       "        vertical-align: top;\n",
       "    }\n",
       "\n",
       "    .dataframe thead th {\n",
       "        text-align: right;\n",
       "    }\n",
       "</style>\n",
       "<table border=\"1\" class=\"dataframe\">\n",
       "  <thead>\n",
       "    <tr style=\"text-align: right;\">\n",
       "      <th></th>\n",
       "      <th>annual_inc</th>\n",
       "      <th>annual_inc_joint</th>\n",
       "      <th>delinq_2yrs</th>\n",
       "      <th>dti</th>\n",
       "      <th>dti_joint</th>\n",
       "      <th>loan_amnt</th>\n",
       "      <th>int_rate</th>\n",
       "      <th>open_acc</th>\n",
       "      <th>tot_cur_bal</th>\n",
       "      <th>acc_now_delinq</th>\n",
       "      <th>decision</th>\n",
       "    </tr>\n",
       "  </thead>\n",
       "  <tbody>\n",
       "    <tr>\n",
       "      <td>count</td>\n",
       "      <td>1.340969e+06</td>\n",
       "      <td>2.692900e+04</td>\n",
       "      <td>1.340944e+06</td>\n",
       "      <td>1.340619e+06</td>\n",
       "      <td>26927.000000</td>\n",
       "      <td>1.340973e+06</td>\n",
       "      <td>1.340973e+06</td>\n",
       "      <td>1.340944e+06</td>\n",
       "      <td>1.270697e+06</td>\n",
       "      <td>1.340944e+06</td>\n",
       "      <td>1.340973e+06</td>\n",
       "    </tr>\n",
       "    <tr>\n",
       "      <td>mean</td>\n",
       "      <td>7.619619e+04</td>\n",
       "      <td>1.171562e+05</td>\n",
       "      <td>3.189499e-01</td>\n",
       "      <td>1.829820e+01</td>\n",
       "      <td>19.064739</td>\n",
       "      <td>1.447239e+04</td>\n",
       "      <td>1.331854e+01</td>\n",
       "      <td>1.159113e+01</td>\n",
       "      <td>1.408983e+05</td>\n",
       "      <td>5.038242e-03</td>\n",
       "      <td>7.770119e-01</td>\n",
       "    </tr>\n",
       "    <tr>\n",
       "      <td>std</td>\n",
       "      <td>7.047926e+04</td>\n",
       "      <td>5.946941e+04</td>\n",
       "      <td>8.799063e-01</td>\n",
       "      <td>1.116129e+01</td>\n",
       "      <td>7.748603</td>\n",
       "      <td>8.735345e+03</td>\n",
       "      <td>4.785973e+00</td>\n",
       "      <td>5.478261e+00</td>\n",
       "      <td>1.573075e+05</td>\n",
       "      <td>7.710409e-02</td>\n",
       "      <td>4.162506e-01</td>\n",
       "    </tr>\n",
       "    <tr>\n",
       "      <td>min</td>\n",
       "      <td>0.000000e+00</td>\n",
       "      <td>1.100000e+04</td>\n",
       "      <td>0.000000e+00</td>\n",
       "      <td>-1.000000e+00</td>\n",
       "      <td>0.000000</td>\n",
       "      <td>5.000000e+02</td>\n",
       "      <td>5.310000e+00</td>\n",
       "      <td>0.000000e+00</td>\n",
       "      <td>0.000000e+00</td>\n",
       "      <td>0.000000e+00</td>\n",
       "      <td>0.000000e+00</td>\n",
       "    </tr>\n",
       "    <tr>\n",
       "      <td>25%</td>\n",
       "      <td>4.576000e+04</td>\n",
       "      <td>8.000000e+04</td>\n",
       "      <td>0.000000e+00</td>\n",
       "      <td>1.180000e+01</td>\n",
       "      <td>13.430000</td>\n",
       "      <td>8.000000e+03</td>\n",
       "      <td>9.760000e+00</td>\n",
       "      <td>8.000000e+00</td>\n",
       "      <td>2.940300e+04</td>\n",
       "      <td>0.000000e+00</td>\n",
       "      <td>1.000000e+00</td>\n",
       "    </tr>\n",
       "    <tr>\n",
       "      <td>50%</td>\n",
       "      <td>6.500000e+04</td>\n",
       "      <td>1.060000e+05</td>\n",
       "      <td>0.000000e+00</td>\n",
       "      <td>1.763000e+01</td>\n",
       "      <td>18.700000</td>\n",
       "      <td>1.200000e+04</td>\n",
       "      <td>1.279000e+01</td>\n",
       "      <td>1.100000e+01</td>\n",
       "      <td>7.984300e+04</td>\n",
       "      <td>0.000000e+00</td>\n",
       "      <td>1.000000e+00</td>\n",
       "    </tr>\n",
       "    <tr>\n",
       "      <td>75%</td>\n",
       "      <td>9.000000e+04</td>\n",
       "      <td>1.400000e+05</td>\n",
       "      <td>0.000000e+00</td>\n",
       "      <td>2.408000e+01</td>\n",
       "      <td>24.375000</td>\n",
       "      <td>2.000000e+04</td>\n",
       "      <td>1.602000e+01</td>\n",
       "      <td>1.400000e+01</td>\n",
       "      <td>2.104040e+05</td>\n",
       "      <td>0.000000e+00</td>\n",
       "      <td>1.000000e+00</td>\n",
       "    </tr>\n",
       "    <tr>\n",
       "      <td>max</td>\n",
       "      <td>1.099920e+07</td>\n",
       "      <td>1.837000e+06</td>\n",
       "      <td>3.900000e+01</td>\n",
       "      <td>9.990000e+02</td>\n",
       "      <td>69.490000</td>\n",
       "      <td>4.000000e+04</td>\n",
       "      <td>3.099000e+01</td>\n",
       "      <td>9.000000e+01</td>\n",
       "      <td>8.000078e+06</td>\n",
       "      <td>1.400000e+01</td>\n",
       "      <td>1.000000e+00</td>\n",
       "    </tr>\n",
       "  </tbody>\n",
       "</table>\n",
       "</div>"
      ],
      "text/plain": [
       "         annual_inc  annual_inc_joint   delinq_2yrs           dti  \\\n",
       "count  1.340969e+06      2.692900e+04  1.340944e+06  1.340619e+06   \n",
       "mean   7.619619e+04      1.171562e+05  3.189499e-01  1.829820e+01   \n",
       "std    7.047926e+04      5.946941e+04  8.799063e-01  1.116129e+01   \n",
       "min    0.000000e+00      1.100000e+04  0.000000e+00 -1.000000e+00   \n",
       "25%    4.576000e+04      8.000000e+04  0.000000e+00  1.180000e+01   \n",
       "50%    6.500000e+04      1.060000e+05  0.000000e+00  1.763000e+01   \n",
       "75%    9.000000e+04      1.400000e+05  0.000000e+00  2.408000e+01   \n",
       "max    1.099920e+07      1.837000e+06  3.900000e+01  9.990000e+02   \n",
       "\n",
       "          dti_joint     loan_amnt      int_rate      open_acc   tot_cur_bal  \\\n",
       "count  26927.000000  1.340973e+06  1.340973e+06  1.340944e+06  1.270697e+06   \n",
       "mean      19.064739  1.447239e+04  1.331854e+01  1.159113e+01  1.408983e+05   \n",
       "std        7.748603  8.735345e+03  4.785973e+00  5.478261e+00  1.573075e+05   \n",
       "min        0.000000  5.000000e+02  5.310000e+00  0.000000e+00  0.000000e+00   \n",
       "25%       13.430000  8.000000e+03  9.760000e+00  8.000000e+00  2.940300e+04   \n",
       "50%       18.700000  1.200000e+04  1.279000e+01  1.100000e+01  7.984300e+04   \n",
       "75%       24.375000  2.000000e+04  1.602000e+01  1.400000e+01  2.104040e+05   \n",
       "max       69.490000  4.000000e+04  3.099000e+01  9.000000e+01  8.000078e+06   \n",
       "\n",
       "       acc_now_delinq      decision  \n",
       "count    1.340944e+06  1.340973e+06  \n",
       "mean     5.038242e-03  7.770119e-01  \n",
       "std      7.710409e-02  4.162506e-01  \n",
       "min      0.000000e+00  0.000000e+00  \n",
       "25%      0.000000e+00  1.000000e+00  \n",
       "50%      0.000000e+00  1.000000e+00  \n",
       "75%      0.000000e+00  1.000000e+00  \n",
       "max      1.400000e+01  1.000000e+00  "
      ]
     },
     "execution_count": 48,
     "metadata": {},
     "output_type": "execute_result"
    }
   ],
   "source": [
    "fil_df.describe()"
   ]
  },
  {
   "cell_type": "code",
   "execution_count": 54,
   "metadata": {},
   "outputs": [
    {
     "data": {
      "image/png": "[encoded data removed]",
      "text/plain": [
       "<Figure size 1080x1080 with 12 Axes>"
      ]
     },
     "metadata": {
      "needs_background": "light"
     },
     "output_type": "display_data"
    },
    {
     "data": {
      "text/plain": [
       "<Figure size 432x288 with 0 Axes>"
      ]
     },
     "metadata": {},
     "output_type": "display_data"
    }
   ],
   "source": [
    "fil_df.hist(figsize=(15,15))\n",
    "plt.figure()\n",
    "plt.show()"
   ]
  },
  {
   "cell_type": "code",
   "execution_count": 56,
   "metadata": {},
   "outputs": [
    {
     "data": {
      "text/plain": [
       "CA    195921\n",
       "NY    109934\n",
       "TX    109836\n",
       "FL     95651\n",
       "IL     51343\n",
       "NJ     48335\n",
       "PA     45441\n",
       "OH     43470\n",
       "GA     43280\n",
       "VA     37931\n",
       "NC     37618\n",
       "MI     35090\n",
       "AZ     32536\n",
       "MD     31357\n",
       "MA     30901\n",
       "CO     29485\n",
       "WA     28993\n",
       "MN     23827\n",
       "IN     21543\n",
       "MO     21211\n",
       "TN     20261\n",
       "NV     20127\n",
       "CT     19696\n",
       "WI     17694\n",
       "AL     16633\n",
       "OR     16311\n",
       "SC     15878\n",
       "LA     15491\n",
       "KY     12777\n",
       "OK     12201\n",
       "KS     11142\n",
       "AR     10013\n",
       "UT      9982\n",
       "NM      7354\n",
       "HI      6746\n",
       "MS      6635\n",
       "NH      6412\n",
       "RI      5838\n",
       "WV      4824\n",
       "MT      3781\n",
       "DE      3776\n",
       "NE      3563\n",
       "DC      3460\n",
       "AK      3180\n",
       "WY      2902\n",
       "SD      2750\n",
       "VT      2625\n",
       "ME      1995\n",
       "ID      1631\n",
       "ND      1578\n",
       "IA        14\n",
       "Name: addr_state, dtype: int64"
      ]
     },
     "execution_count": 56,
     "metadata": {},
     "output_type": "execute_result"
    }
   ],
   "source": [
    "fil_df['addr_state'].value_counts()"
   ]
  },
  {
   "cell_type": "code",
   "execution_count": 57,
   "metadata": {},
   "outputs": [
    {
     "data": {
      "text/plain": [
       "Individual    1314044\n",
       "Joint App       26929\n",
       "Name: application_type, dtype: int64"
      ]
     },
     "execution_count": 57,
     "metadata": {},
     "output_type": "execute_result"
    }
   ],
   "source": [
    "fil_df['application_type'].value_counts()"
   ]
  },
  {
   "cell_type": "code",
   "execution_count": 58,
   "metadata": {},
   "outputs": [
    {
     "data": {
      "text/plain": [
       "10+ years    439791\n",
       "2 years      121342\n",
       "< 1 year     108194\n",
       "3 years      107330\n",
       "1 year        88431\n",
       "5 years       83932\n",
       "4 years       80360\n",
       "6 years       62592\n",
       "8 years       60501\n",
       "7 years       59450\n",
       "9 years       50622\n",
       "Name: emp_length, dtype: int64"
      ]
     },
     "execution_count": 58,
     "metadata": {},
     "output_type": "execute_result"
    }
   ],
   "source": [
    "fil_df['emp_length'].value_counts()"
   ]
  },
  {
   "cell_type": "code",
   "execution_count": 59,
   "metadata": {},
   "outputs": [
    {
     "data": {
      "text/plain": [
       "MORTGAGE    662056\n",
       "RENT        534071\n",
       "OWN         144321\n",
       "ANY            290\n",
       "OTHER          182\n",
       "NONE            53\n",
       "Name: home_ownership, dtype: int64"
      ]
     },
     "execution_count": 59,
     "metadata": {},
     "output_type": "execute_result"
    }
   ],
   "source": [
    "fil_df['home_ownership'].value_counts()"
   ]
  },
  {
   "cell_type": "code",
   "execution_count": 60,
   "metadata": {},
   "outputs": [
    {
     "data": {
      "text/plain": [
       "B    388102\n",
       "C    382727\n",
       "A    228592\n",
       "D    203758\n",
       "E     95465\n",
       "F     32794\n",
       "G      9535\n",
       "Name: grade, dtype: int64"
      ]
     },
     "execution_count": 60,
     "metadata": {},
     "output_type": "execute_result"
    }
   ],
   "source": [
    "fil_df['grade'].value_counts()"
   ]
  },
  {
   "cell_type": "code",
   "execution_count": 61,
   "metadata": {},
   "outputs": [
    {
     "data": {
      "text/plain": [
       "C1    85187\n",
       "B4    82411\n",
       "B5    81770\n",
       "B3    80861\n",
       "C2    79228\n",
       "C3    75208\n",
       "C4    74933\n",
       "B2    72977\n",
       "B1    70083\n",
       "C5    68171\n",
       "A5    62829\n",
       "D1    51803\n",
       "A4    51105\n",
       "D2    45293\n",
       "A1    41509\n",
       "D3    39953\n",
       "A3    37030\n",
       "A2    36119\n",
       "D4    36118\n",
       "D5    30591\n",
       "E1    24025\n",
       "E2    21730\n",
       "E3    18766\n",
       "E4    16045\n",
       "E5    14899\n",
       "F1    10165\n",
       "F2     7334\n",
       "F3     6249\n",
       "F4     4984\n",
       "F5     4062\n",
       "G1     3086\n",
       "G2     2202\n",
       "G3     1674\n",
       "G4     1363\n",
       "G5     1210\n",
       "Name: sub_grade, dtype: int64"
      ]
     },
     "execution_count": 61,
     "metadata": {},
     "output_type": "execute_result"
    }
   ],
   "source": [
    "fil_df['sub_grade'].value_counts()"
   ]
  },
  {
   "cell_type": "code",
   "execution_count": null,
   "metadata": {},
   "outputs": [],
   "source": []
  }
 ],
 "metadata": {
  "kernelspec": {
   "display_name": "Python 3",
   "language": "python",
   "name": "python3"
  },
  "language_info": {
   "codemirror_mode": {
    "name": "ipython",
    "version": 3
   },
   "file_extension": ".py",
   "mimetype": "text/x-python",
   "name": "python",
   "nbconvert_exporter": "python",
   "pygments_lexer": "ipython3",
   "version": "3.7.4"
  }
 },
 "nbformat": 4,
 "nbformat_minor": 2
}
